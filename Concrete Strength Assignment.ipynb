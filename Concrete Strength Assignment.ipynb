{
 "cells": [
  {
   "cell_type": "markdown",
   "metadata": {},
   "source": [
    "# Assignment: Compresive Strength Concrete Problem\n",
    "\n",
    "\n",
    "### Abstract: \n",
    "\n",
    "Concrete is the most important material in civil engineering. The concrete compressive strength (concrete strength to bear the load) is a highly nonlinear function of age and ingredients.  <br><br>\n",
    "\n",
    "<table border=\"1\"  cellpadding=\"6\" bordercolor=\"red\">\n",
    "\t<tbody>\n",
    "        <tr>\n",
    "\t\t<td bgcolor=\"#DDEEFF\"><p class=\"normal\"><b>Data Set Characteristics:&nbsp;&nbsp;</b></p></td>\n",
    "\t\t<td><p class=\"normal\">Multivariate</p></td>\n",
    "\t\t<td bgcolor=\"#DDEEFF\"><p class=\"normal\"><b>Number of Instances:</b></p></td>\n",
    "\t\t<td><p class=\"normal\">1030</p></td>\n",
    "\t\t<td bgcolor=\"#DDEEFF\"><p class=\"normal\"><b>Area:</b></p></td>\n",
    "\t\t<td><p class=\"normal\">Physical</p></td>\n",
    "        </tr>\n",
    "     </tbody>\n",
    "    </table>\n",
    "<table border=\"1\" cellpadding=\"6\">\n",
    "    <tbody>\n",
    "        <tr>\n",
    "            <td bgcolor=\"#DDEEFF\"><p class=\"normal\"><b>Attribute Characteristics:</b></p></td>\n",
    "            <td><p class=\"normal\">Real</p></td>\n",
    "            <td bgcolor=\"#DDEEFF\"><p class=\"normal\"><b>Number of Attributes:</b></p></td>\n",
    "            <td><p class=\"normal\">9</p></td>\n",
    "            <td bgcolor=\"#DDEEFF\"><p class=\"normal\"><b>Date Donated</b></p></td>\n",
    "            <td><p class=\"normal\">2007-08-03</p></td>\n",
    "        </tr>\n",
    "     </tbody>\n",
    "    </table>\n",
    "<table border=\"1\" cellpadding=\"6\">\t\n",
    "    <tbody>\n",
    "    <tr>\n",
    "\t\t<td bgcolor=\"#DDEEFF\"><p class=\"normal\"><b>Associated Tasks:</b></p></td>\n",
    "\t\t<td><p class=\"normal\">Regression</p></td>\n",
    "\t\t<td bgcolor=\"#DDEEFF\"><p class=\"normal\"><b>Missing Values?</b></p></td>\n",
    "\t\t<td><p class=\"normal\">N/A</p></td>\n",
    "\t\t<td bgcolor=\"#DDEEFF\"><p class=\"normal\"><b>Number of Web Hits:</b></p></td>\n",
    "\t\t<td><p class=\"normal\">231464</p></td>\n",
    "\t</tr>\n",
    "    </tbody>\n",
    "    </table>"
   ]
  },
  {
   "cell_type": "markdown",
   "metadata": {},
   "source": [
    "###  Description:\n",
    "| Features Name | Data Type | Measurement | Description |\n",
    "| -- | -- | -- | -- |\n",
    "Cement (component 1) | quantitative | kg in a m3 mixture | Input Variable\n",
    "Blast Furnace Slag (component 2) | quantitative | kg in a m3 mixture | Input Variable\n",
    "Fly Ash (component 3) | quantitative | kg in a m3 mixture | Input Variable\n",
    "Water (component 4) | quantitative | kg in a m3 mixture | Input Variable\n",
    "Superplasticizer (component 5) | quantitative | kg in a m3 mixture | Input Variable\n",
    "Coarse Aggregate (component 6) | quantitative | kg in a m3 mixture | Input Variable\n",
    "Fine Aggregate (component 7) | quantitative | kg in a m3 mixture | Input Variable\n",
    "Age | quantitative | Day (1~365) | Input Variable\n",
    "Concrete compressive strength | quantitative | MPa | Output Variable\n",
    "\n",
    "### WORKFLOW :\n",
    "- Load Data\n",
    "- Check Missing Values ( If Exist ; Fill each record with mean of its feature )\n",
    "- Standardized the Input Variables. **Hint**: Centeralized the data\n",
    "- Split into 50% Training(Samples,Labels) , 30% Test(Samples,Labels) and 20% Validation Data(Samples,Labels).\n",
    "- Model : input Layer (No. of features ), 3 hidden layers including 10,8,6 unit & Output Layer with activation function relu/tanh (check by experiment).\n",
    "- Compilation Step (Note : Its a Regression problem , select loss , metrics according to it)\n",
    "- Train the Model with Epochs (100) and validate it\n",
    "- If the model gets overfit tune your model by changing the units , No. of layers , activation function , epochs , add dropout layer or add Regularizer according to the need .\n",
    "- Evaluation Step\n",
    "- Prediction\n"
   ]
  },
  {
   "cell_type": "markdown",
   "metadata": {},
   "source": [
    "# Load Data:\n",
    "[Click Here to Download DataSet](https://github.com/ramsha275/ML_Datasets/blob/main/compresive_strength_concrete.csv)"
   ]
  },
  {
   "cell_type": "code",
   "execution_count": 1,
   "metadata": {},
   "outputs": [],
   "source": [
    "import pandas as pd\n",
    "import numpy as np\n",
    "import matplotlib.pyplot as plt\n",
    "from sklearn.preprocessing import StandardScaler\n",
    "from sklearn.model_selection import train_test_split\n",
    "import tensorflow as tf\n",
    "from tensorflow.keras import models,layers,optimizers,utils\n",
    "from tensorflow.keras.utils import to_categorical\n",
    "from tensorflow.keras.models import Sequential\n",
    "from tensorflow.keras.layers import Dense\n",
    "import math\n",
    "from sklearn.metrics import mean_squared_error"
   ]
  },
  {
   "cell_type": "code",
   "execution_count": 2,
   "metadata": {},
   "outputs": [],
   "source": [
    "df=pd.read_csv(\"D:/Q2/COMPLELTED Assignments&Tasks/DLAssignments/Data/ML_Datasets-main/ML_Datasets-main/compresive_strength_concrete.csv\")"
   ]
  },
  {
   "cell_type": "code",
   "execution_count": 3,
   "metadata": {
    "scrolled": true
   },
   "outputs": [
    {
     "data": {
      "text/html": [
       "<div>\n",
       "<style scoped>\n",
       "    .dataframe tbody tr th:only-of-type {\n",
       "        vertical-align: middle;\n",
       "    }\n",
       "\n",
       "    .dataframe tbody tr th {\n",
       "        vertical-align: top;\n",
       "    }\n",
       "\n",
       "    .dataframe thead th {\n",
       "        text-align: right;\n",
       "    }\n",
       "</style>\n",
       "<table border=\"1\" class=\"dataframe\">\n",
       "  <thead>\n",
       "    <tr style=\"text-align: right;\">\n",
       "      <th></th>\n",
       "      <th>Cement (component 1)(kg in a m^3 mixture)</th>\n",
       "      <th>Blast Furnace Slag (component 2)(kg in a m^3 mixture)</th>\n",
       "      <th>Fly Ash (component 3)(kg in a m^3 mixture)</th>\n",
       "      <th>Water  (component 4)(kg in a m^3 mixture)</th>\n",
       "      <th>Superplasticizer (component 5)(kg in a m^3 mixture)</th>\n",
       "      <th>Coarse Aggregate  (component 6)(kg in a m^3 mixture)</th>\n",
       "      <th>Fine Aggregate (component 7)(kg in a m^3 mixture)</th>\n",
       "      <th>Age (day)</th>\n",
       "      <th>Concrete compressive strength(MPa, megapascals)</th>\n",
       "    </tr>\n",
       "  </thead>\n",
       "  <tbody>\n",
       "    <tr>\n",
       "      <th>0</th>\n",
       "      <td>540.0</td>\n",
       "      <td>0.0</td>\n",
       "      <td>0.0</td>\n",
       "      <td>162.0</td>\n",
       "      <td>2.5</td>\n",
       "      <td>1040.0</td>\n",
       "      <td>676.0</td>\n",
       "      <td>28</td>\n",
       "      <td>79.99</td>\n",
       "    </tr>\n",
       "    <tr>\n",
       "      <th>1</th>\n",
       "      <td>540.0</td>\n",
       "      <td>0.0</td>\n",
       "      <td>0.0</td>\n",
       "      <td>162.0</td>\n",
       "      <td>2.5</td>\n",
       "      <td>1055.0</td>\n",
       "      <td>676.0</td>\n",
       "      <td>28</td>\n",
       "      <td>61.89</td>\n",
       "    </tr>\n",
       "    <tr>\n",
       "      <th>2</th>\n",
       "      <td>332.5</td>\n",
       "      <td>142.5</td>\n",
       "      <td>0.0</td>\n",
       "      <td>228.0</td>\n",
       "      <td>0.0</td>\n",
       "      <td>932.0</td>\n",
       "      <td>594.0</td>\n",
       "      <td>270</td>\n",
       "      <td>40.27</td>\n",
       "    </tr>\n",
       "    <tr>\n",
       "      <th>3</th>\n",
       "      <td>332.5</td>\n",
       "      <td>142.5</td>\n",
       "      <td>0.0</td>\n",
       "      <td>228.0</td>\n",
       "      <td>0.0</td>\n",
       "      <td>932.0</td>\n",
       "      <td>594.0</td>\n",
       "      <td>365</td>\n",
       "      <td>41.05</td>\n",
       "    </tr>\n",
       "    <tr>\n",
       "      <th>4</th>\n",
       "      <td>198.6</td>\n",
       "      <td>132.4</td>\n",
       "      <td>0.0</td>\n",
       "      <td>192.0</td>\n",
       "      <td>0.0</td>\n",
       "      <td>978.4</td>\n",
       "      <td>825.5</td>\n",
       "      <td>360</td>\n",
       "      <td>44.30</td>\n",
       "    </tr>\n",
       "  </tbody>\n",
       "</table>\n",
       "</div>"
      ],
      "text/plain": [
       "   Cement (component 1)(kg in a m^3 mixture)  \\\n",
       "0                                      540.0   \n",
       "1                                      540.0   \n",
       "2                                      332.5   \n",
       "3                                      332.5   \n",
       "4                                      198.6   \n",
       "\n",
       "   Blast Furnace Slag (component 2)(kg in a m^3 mixture)  \\\n",
       "0                                                0.0       \n",
       "1                                                0.0       \n",
       "2                                              142.5       \n",
       "3                                              142.5       \n",
       "4                                              132.4       \n",
       "\n",
       "   Fly Ash (component 3)(kg in a m^3 mixture)  \\\n",
       "0                                         0.0   \n",
       "1                                         0.0   \n",
       "2                                         0.0   \n",
       "3                                         0.0   \n",
       "4                                         0.0   \n",
       "\n",
       "   Water  (component 4)(kg in a m^3 mixture)  \\\n",
       "0                                      162.0   \n",
       "1                                      162.0   \n",
       "2                                      228.0   \n",
       "3                                      228.0   \n",
       "4                                      192.0   \n",
       "\n",
       "   Superplasticizer (component 5)(kg in a m^3 mixture)  \\\n",
       "0                                                2.5     \n",
       "1                                                2.5     \n",
       "2                                                0.0     \n",
       "3                                                0.0     \n",
       "4                                                0.0     \n",
       "\n",
       "   Coarse Aggregate  (component 6)(kg in a m^3 mixture)  \\\n",
       "0                                             1040.0      \n",
       "1                                             1055.0      \n",
       "2                                              932.0      \n",
       "3                                              932.0      \n",
       "4                                              978.4      \n",
       "\n",
       "   Fine Aggregate (component 7)(kg in a m^3 mixture)  Age (day)  \\\n",
       "0                                              676.0         28   \n",
       "1                                              676.0         28   \n",
       "2                                              594.0        270   \n",
       "3                                              594.0        365   \n",
       "4                                              825.5        360   \n",
       "\n",
       "   Concrete compressive strength(MPa, megapascals)   \n",
       "0                                             79.99  \n",
       "1                                             61.89  \n",
       "2                                             40.27  \n",
       "3                                             41.05  \n",
       "4                                             44.30  "
      ]
     },
     "execution_count": 3,
     "metadata": {},
     "output_type": "execute_result"
    }
   ],
   "source": [
    "df.head()"
   ]
  },
  {
   "cell_type": "code",
   "execution_count": 4,
   "metadata": {},
   "outputs": [],
   "source": [
    "y=df['Concrete compressive strength(MPa, megapascals) '].copy()\n",
    "x=df.drop('Concrete compressive strength(MPa, megapascals) ', axis=1).copy()"
   ]
  },
  {
   "cell_type": "code",
   "execution_count": 5,
   "metadata": {},
   "outputs": [],
   "source": [
    "x_train,x_test,y_train,y_test=train_test_split(x,y,train_size=0.7,random_state=123)"
   ]
  },
  {
   "cell_type": "code",
   "execution_count": 6,
   "metadata": {},
   "outputs": [
    {
     "data": {
      "text/plain": [
       "StandardScaler()"
      ]
     },
     "execution_count": 6,
     "metadata": {},
     "output_type": "execute_result"
    }
   ],
   "source": [
    "scaler = StandardScaler()\n",
    "scaler.fit(x_train)"
   ]
  },
  {
   "cell_type": "code",
   "execution_count": 7,
   "metadata": {},
   "outputs": [],
   "source": [
    "x_train =pd.DataFrame(scaler.transform(x_train),columns=x_train.columns)\n",
    "x_test=pd.DataFrame(scaler.transform(x_test),columns=x_test.columns)"
   ]
  },
  {
   "cell_type": "code",
   "execution_count": 8,
   "metadata": {},
   "outputs": [],
   "source": [
    "part_x_train, x_val, part_y_train, y_val = train_test_split(x_train, y_train, test_size=0.2, random_state=2)"
   ]
  },
  {
   "cell_type": "code",
   "execution_count": 9,
   "metadata": {},
   "outputs": [],
   "source": [
    "model = Sequential()\n",
    "model.add(Dense(12, input_dim=8, activation= \"relu\"))\n",
    "model.add(Dense(10, activation= \"relu\"))\n",
    "model.add(Dense(8, activation= \"relu\"))\n",
    "model.add(Dense(6, activation= \"relu\"))\n",
    "model.add(Dense(1,activation=\"relu\"))\n",
    "model.compile(loss= \"mean_squared_error\" , optimizer=\"adam\", metrics=[\"acc\"])"
   ]
  },
  {
   "cell_type": "code",
   "execution_count": 10,
   "metadata": {},
   "outputs": [
    {
     "name": "stdout",
     "output_type": "stream",
     "text": [
      "Epoch 1/100\n",
      "5/5 [==============================] - 3s 647ms/step - loss: 1588.1337 - acc: 0.0000e+00 - val_loss: 1422.5450 - val_acc: 0.0000e+00\n",
      "Epoch 2/100\n",
      "5/5 [==============================] - 0s 17ms/step - loss: 1643.4114 - acc: 0.0000e+00 - val_loss: 1412.2369 - val_acc: 0.0000e+00\n",
      "Epoch 3/100\n",
      "5/5 [==============================] - 0s 15ms/step - loss: 1562.4740 - acc: 0.0000e+00 - val_loss: 1401.1812 - val_acc: 0.0000e+00\n",
      "Epoch 4/100\n",
      "5/5 [==============================] - 0s 17ms/step - loss: 1536.8289 - acc: 0.0000e+00 - val_loss: 1389.1378 - val_acc: 0.0000e+00\n",
      "Epoch 5/100\n",
      "5/5 [==============================] - 0s 17ms/step - loss: 1522.0500 - acc: 0.0000e+00 - val_loss: 1375.9745 - val_acc: 0.0000e+00\n",
      "Epoch 6/100\n",
      "5/5 [==============================] - 0s 17ms/step - loss: 1461.9905 - acc: 0.0000e+00 - val_loss: 1361.5436 - val_acc: 0.0000e+00\n",
      "Epoch 7/100\n",
      "5/5 [==============================] - 0s 16ms/step - loss: 1412.5389 - acc: 0.0000e+00 - val_loss: 1345.6561 - val_acc: 0.0000e+00\n",
      "Epoch 8/100\n",
      "5/5 [==============================] - 0s 18ms/step - loss: 1435.8611 - acc: 0.0000e+00 - val_loss: 1327.9146 - val_acc: 0.0000e+00\n",
      "Epoch 9/100\n",
      "5/5 [==============================] - 0s 20ms/step - loss: 1443.8125 - acc: 0.0000e+00 - val_loss: 1308.0216 - val_acc: 0.0000e+00\n",
      "Epoch 10/100\n",
      "5/5 [==============================] - 0s 16ms/step - loss: 1414.4623 - acc: 0.0000e+00 - val_loss: 1285.6714 - val_acc: 0.0000e+00\n",
      "Epoch 11/100\n",
      "5/5 [==============================] - 0s 17ms/step - loss: 1375.5472 - acc: 0.0000e+00 - val_loss: 1260.4286 - val_acc: 0.0000e+00\n",
      "Epoch 12/100\n",
      "5/5 [==============================] - 0s 19ms/step - loss: 1342.2895 - acc: 0.0000e+00 - val_loss: 1232.1631 - val_acc: 0.0000e+00\n",
      "Epoch 13/100\n",
      "5/5 [==============================] - 0s 17ms/step - loss: 1317.1737 - acc: 0.0000e+00 - val_loss: 1200.3746 - val_acc: 0.0000e+00\n",
      "Epoch 14/100\n",
      "5/5 [==============================] - 0s 21ms/step - loss: 1306.9545 - acc: 0.0000e+00 - val_loss: 1164.8562 - val_acc: 0.0000e+00\n",
      "Epoch 15/100\n",
      "5/5 [==============================] - 0s 18ms/step - loss: 1229.8487 - acc: 0.0000e+00 - val_loss: 1125.3846 - val_acc: 0.0000e+00\n",
      "Epoch 16/100\n",
      "5/5 [==============================] - 0s 15ms/step - loss: 1247.9862 - acc: 0.0000e+00 - val_loss: 1081.3765 - val_acc: 0.0000e+00\n",
      "Epoch 17/100\n",
      "5/5 [==============================] - 0s 17ms/step - loss: 1170.7337 - acc: 0.0000e+00 - val_loss: 1033.1702 - val_acc: 0.0000e+00\n",
      "Epoch 18/100\n",
      "5/5 [==============================] - 0s 17ms/step - loss: 1176.3103 - acc: 0.0000e+00 - val_loss: 980.3012 - val_acc: 0.0000e+00\n",
      "Epoch 19/100\n",
      "5/5 [==============================] - 0s 17ms/step - loss: 1036.2655 - acc: 0.0000e+00 - val_loss: 923.5773 - val_acc: 0.0000e+00\n",
      "Epoch 20/100\n",
      "5/5 [==============================] - 0s 20ms/step - loss: 1022.6452 - acc: 0.0000e+00 - val_loss: 862.1363 - val_acc: 0.0000e+00\n",
      "Epoch 21/100\n",
      "5/5 [==============================] - 0s 17ms/step - loss: 937.8356 - acc: 0.0000e+00 - val_loss: 796.9387 - val_acc: 0.0000e+00\n",
      "Epoch 22/100\n",
      "5/5 [==============================] - 0s 21ms/step - loss: 847.8118 - acc: 0.0000e+00 - val_loss: 728.4333 - val_acc: 0.0000e+00\n",
      "Epoch 23/100\n",
      "5/5 [==============================] - 0s 19ms/step - loss: 819.6961 - acc: 0.0000e+00 - val_loss: 657.3004 - val_acc: 0.0000e+00\n",
      "Epoch 24/100\n",
      "5/5 [==============================] - 0s 20ms/step - loss: 718.3948 - acc: 0.0000e+00 - val_loss: 585.6124 - val_acc: 0.0000e+00\n",
      "Epoch 25/100\n",
      "5/5 [==============================] - 0s 20ms/step - loss: 625.5422 - acc: 0.0000e+00 - val_loss: 514.8853 - val_acc: 0.0000e+00\n",
      "Epoch 26/100\n",
      "5/5 [==============================] - 0s 14ms/step - loss: 568.5165 - acc: 0.0000e+00 - val_loss: 447.1865 - val_acc: 0.0000e+00\n",
      "Epoch 27/100\n",
      "5/5 [==============================] - 0s 16ms/step - loss: 490.4978 - acc: 0.0000e+00 - val_loss: 384.9564 - val_acc: 0.0000e+00\n",
      "Epoch 28/100\n",
      "5/5 [==============================] - 0s 17ms/step - loss: 421.8743 - acc: 0.0000e+00 - val_loss: 330.6960 - val_acc: 0.0000e+00\n",
      "Epoch 29/100\n",
      "5/5 [==============================] - 0s 16ms/step - loss: 382.2463 - acc: 0.0000e+00 - val_loss: 285.7901 - val_acc: 0.0000e+00\n",
      "Epoch 30/100\n",
      "5/5 [==============================] - 0s 17ms/step - loss: 325.1692 - acc: 0.0000e+00 - val_loss: 251.5898 - val_acc: 0.0000e+00\n",
      "Epoch 31/100\n",
      "5/5 [==============================] - 0s 17ms/step - loss: 273.7199 - acc: 0.0000e+00 - val_loss: 226.9605 - val_acc: 0.0000e+00\n",
      "Epoch 32/100\n",
      "5/5 [==============================] - 0s 20ms/step - loss: 278.8773 - acc: 0.0000e+00 - val_loss: 209.9114 - val_acc: 0.0000e+00\n",
      "Epoch 33/100\n",
      "5/5 [==============================] - 0s 18ms/step - loss: 264.8944 - acc: 0.0000e+00 - val_loss: 198.7274 - val_acc: 0.0000e+00\n",
      "Epoch 34/100\n",
      "5/5 [==============================] - 0s 19ms/step - loss: 247.1289 - acc: 0.0000e+00 - val_loss: 191.2054 - val_acc: 0.0000e+00\n",
      "Epoch 35/100\n",
      "5/5 [==============================] - 0s 19ms/step - loss: 239.5077 - acc: 0.0000e+00 - val_loss: 185.3330 - val_acc: 0.0000e+00\n",
      "Epoch 36/100\n",
      "5/5 [==============================] - 0s 18ms/step - loss: 248.8147 - acc: 0.0000e+00 - val_loss: 180.2872 - val_acc: 0.0000e+00\n",
      "Epoch 37/100\n",
      "5/5 [==============================] - 0s 16ms/step - loss: 231.1818 - acc: 0.0000e+00 - val_loss: 176.0865 - val_acc: 0.0000e+00\n",
      "Epoch 38/100\n",
      "5/5 [==============================] - 0s 17ms/step - loss: 225.4690 - acc: 0.0000e+00 - val_loss: 172.5005 - val_acc: 0.0000e+00\n",
      "Epoch 39/100\n",
      "5/5 [==============================] - 0s 17ms/step - loss: 227.7414 - acc: 0.0000e+00 - val_loss: 169.5719 - val_acc: 0.0000e+00\n",
      "Epoch 40/100\n",
      "5/5 [==============================] - 0s 18ms/step - loss: 216.2578 - acc: 0.0000e+00 - val_loss: 167.0177 - val_acc: 0.0000e+00\n",
      "Epoch 41/100\n",
      "5/5 [==============================] - 0s 19ms/step - loss: 210.9144 - acc: 0.0000e+00 - val_loss: 164.8359 - val_acc: 0.0000e+00\n",
      "Epoch 42/100\n",
      "5/5 [==============================] - 0s 17ms/step - loss: 211.4325 - acc: 0.0000e+00 - val_loss: 162.8283 - val_acc: 0.0000e+00\n",
      "Epoch 43/100\n",
      "5/5 [==============================] - 0s 18ms/step - loss: 211.0468 - acc: 0.0000e+00 - val_loss: 160.9069 - val_acc: 0.0000e+00\n",
      "Epoch 44/100\n",
      "5/5 [==============================] - 0s 14ms/step - loss: 208.1788 - acc: 0.0000e+00 - val_loss: 159.1789 - val_acc: 0.0000e+00\n",
      "Epoch 45/100\n",
      "5/5 [==============================] - 0s 18ms/step - loss: 201.1963 - acc: 0.0000e+00 - val_loss: 157.5338 - val_acc: 0.0000e+00\n",
      "Epoch 46/100\n",
      "5/5 [==============================] - 0s 14ms/step - loss: 193.5449 - acc: 0.0000e+00 - val_loss: 155.9303 - val_acc: 0.0000e+00\n",
      "Epoch 47/100\n",
      "5/5 [==============================] - 0s 17ms/step - loss: 212.3258 - acc: 0.0000e+00 - val_loss: 154.5739 - val_acc: 0.0000e+00\n",
      "Epoch 48/100\n",
      "5/5 [==============================] - 0s 18ms/step - loss: 199.9469 - acc: 0.0000e+00 - val_loss: 153.1143 - val_acc: 0.0000e+00\n",
      "Epoch 49/100\n",
      "5/5 [==============================] - 0s 18ms/step - loss: 203.6680 - acc: 0.0000e+00 - val_loss: 151.7999 - val_acc: 0.0000e+00\n",
      "Epoch 50/100\n",
      "5/5 [==============================] - 0s 15ms/step - loss: 197.4233 - acc: 0.0000e+00 - val_loss: 150.5934 - val_acc: 0.0000e+00\n",
      "Epoch 51/100\n",
      "5/5 [==============================] - 0s 17ms/step - loss: 192.9273 - acc: 0.0000e+00 - val_loss: 149.4725 - val_acc: 0.0000e+00\n",
      "Epoch 52/100\n",
      "5/5 [==============================] - 0s 17ms/step - loss: 202.8280 - acc: 0.0000e+00 - val_loss: 148.4601 - val_acc: 0.0000e+00\n",
      "Epoch 53/100\n",
      "5/5 [==============================] - 0s 17ms/step - loss: 201.3302 - acc: 0.0000e+00 - val_loss: 147.5166 - val_acc: 0.0000e+00\n",
      "Epoch 54/100\n",
      "5/5 [==============================] - 0s 17ms/step - loss: 190.8655 - acc: 0.0000e+00 - val_loss: 146.6243 - val_acc: 0.0000e+00\n",
      "Epoch 55/100\n",
      "5/5 [==============================] - 0s 15ms/step - loss: 204.4553 - acc: 0.0000e+00 - val_loss: 145.8065 - val_acc: 0.0000e+00\n",
      "Epoch 56/100\n",
      "5/5 [==============================] - 0s 18ms/step - loss: 200.3934 - acc: 0.0000e+00 - val_loss: 144.8913 - val_acc: 0.0000e+00\n",
      "Epoch 57/100\n",
      "5/5 [==============================] - 0s 17ms/step - loss: 187.1185 - acc: 0.0000e+00 - val_loss: 144.0476 - val_acc: 0.0000e+00\n",
      "Epoch 58/100\n"
     ]
    },
    {
     "name": "stdout",
     "output_type": "stream",
     "text": [
      "5/5 [==============================] - 0s 18ms/step - loss: 192.3549 - acc: 0.0000e+00 - val_loss: 143.3005 - val_acc: 0.0000e+00\n",
      "Epoch 59/100\n",
      "5/5 [==============================] - 0s 18ms/step - loss: 187.5863 - acc: 0.0000e+00 - val_loss: 142.5183 - val_acc: 0.0000e+00\n",
      "Epoch 60/100\n",
      "5/5 [==============================] - 0s 16ms/step - loss: 180.9229 - acc: 0.0000e+00 - val_loss: 141.8697 - val_acc: 0.0000e+00\n",
      "Epoch 61/100\n",
      "5/5 [==============================] - 0s 14ms/step - loss: 186.2444 - acc: 0.0000e+00 - val_loss: 141.3606 - val_acc: 0.0000e+00\n",
      "Epoch 62/100\n",
      "5/5 [==============================] - 0s 17ms/step - loss: 176.2998 - acc: 0.0000e+00 - val_loss: 140.7819 - val_acc: 0.0000e+00\n",
      "Epoch 63/100\n",
      "5/5 [==============================] - 0s 15ms/step - loss: 184.3996 - acc: 0.0000e+00 - val_loss: 140.0198 - val_acc: 0.0000e+00\n",
      "Epoch 64/100\n",
      "5/5 [==============================] - 0s 17ms/step - loss: 183.7298 - acc: 0.0000e+00 - val_loss: 139.2530 - val_acc: 0.0000e+00\n",
      "Epoch 65/100\n",
      "5/5 [==============================] - 0s 16ms/step - loss: 180.5080 - acc: 0.0000e+00 - val_loss: 138.4357 - val_acc: 0.0000e+00\n",
      "Epoch 66/100\n",
      "5/5 [==============================] - 0s 15ms/step - loss: 165.8768 - acc: 0.0000e+00 - val_loss: 137.7225 - val_acc: 0.0000e+00\n",
      "Epoch 67/100\n",
      "5/5 [==============================] - 0s 17ms/step - loss: 174.2415 - acc: 0.0000e+00 - val_loss: 137.0075 - val_acc: 0.0000e+00\n",
      "Epoch 68/100\n",
      "5/5 [==============================] - 0s 16ms/step - loss: 180.5352 - acc: 0.0000e+00 - val_loss: 136.2708 - val_acc: 0.0000e+00\n",
      "Epoch 69/100\n",
      "5/5 [==============================] - 0s 14ms/step - loss: 174.5672 - acc: 0.0000e+00 - val_loss: 135.6044 - val_acc: 0.0000e+00\n",
      "Epoch 70/100\n",
      "5/5 [==============================] - 0s 16ms/step - loss: 167.8460 - acc: 0.0000e+00 - val_loss: 134.9974 - val_acc: 0.0000e+00\n",
      "Epoch 71/100\n",
      "5/5 [==============================] - 0s 14ms/step - loss: 173.2660 - acc: 0.0000e+00 - val_loss: 134.3895 - val_acc: 0.0000e+00\n",
      "Epoch 72/100\n",
      "5/5 [==============================] - 0s 17ms/step - loss: 172.7596 - acc: 0.0000e+00 - val_loss: 133.7563 - val_acc: 0.0000e+00\n",
      "Epoch 73/100\n",
      "5/5 [==============================] - 0s 16ms/step - loss: 171.5211 - acc: 0.0000e+00 - val_loss: 133.1506 - val_acc: 0.0000e+00\n",
      "Epoch 74/100\n",
      "5/5 [==============================] - 0s 18ms/step - loss: 169.3890 - acc: 0.0000e+00 - val_loss: 132.5649 - val_acc: 0.0000e+00\n",
      "Epoch 75/100\n",
      "5/5 [==============================] - 0s 17ms/step - loss: 172.3604 - acc: 0.0000e+00 - val_loss: 132.0977 - val_acc: 0.0000e+00\n",
      "Epoch 76/100\n",
      "5/5 [==============================] - 0s 20ms/step - loss: 167.0481 - acc: 0.0000e+00 - val_loss: 131.7237 - val_acc: 0.0000e+00\n",
      "Epoch 77/100\n",
      "5/5 [==============================] - 0s 17ms/step - loss: 173.3975 - acc: 0.0000e+00 - val_loss: 131.0825 - val_acc: 0.0000e+00\n",
      "Epoch 78/100\n",
      "5/5 [==============================] - 0s 20ms/step - loss: 161.6301 - acc: 0.0000e+00 - val_loss: 130.5789 - val_acc: 0.0000e+00\n",
      "Epoch 79/100\n",
      "5/5 [==============================] - 0s 16ms/step - loss: 172.5752 - acc: 0.0000e+00 - val_loss: 130.1382 - val_acc: 0.0000e+00\n",
      "Epoch 80/100\n",
      "5/5 [==============================] - 0s 14ms/step - loss: 165.8157 - acc: 0.0000e+00 - val_loss: 129.5939 - val_acc: 0.0000e+00\n",
      "Epoch 81/100\n",
      "5/5 [==============================] - 0s 17ms/step - loss: 162.8564 - acc: 0.0000e+00 - val_loss: 129.0884 - val_acc: 0.0000e+00\n",
      "Epoch 82/100\n",
      "5/5 [==============================] - 0s 15ms/step - loss: 162.9437 - acc: 0.0000e+00 - val_loss: 128.5948 - val_acc: 0.0000e+00\n",
      "Epoch 83/100\n",
      "5/5 [==============================] - 0s 17ms/step - loss: 165.9682 - acc: 0.0000e+00 - val_loss: 128.0799 - val_acc: 0.0000e+00\n",
      "Epoch 84/100\n",
      "5/5 [==============================] - 0s 17ms/step - loss: 163.6708 - acc: 0.0000e+00 - val_loss: 127.4905 - val_acc: 0.0000e+00\n",
      "Epoch 85/100\n",
      "5/5 [==============================] - 0s 17ms/step - loss: 162.4068 - acc: 0.0000e+00 - val_loss: 126.9172 - val_acc: 0.0000e+00\n",
      "Epoch 86/100\n",
      "5/5 [==============================] - 0s 17ms/step - loss: 156.4099 - acc: 0.0000e+00 - val_loss: 126.4054 - val_acc: 0.0000e+00\n",
      "Epoch 87/100\n",
      "5/5 [==============================] - 0s 16ms/step - loss: 156.9766 - acc: 0.0000e+00 - val_loss: 125.8796 - val_acc: 0.0000e+00\n",
      "Epoch 88/100\n",
      "5/5 [==============================] - 0s 20ms/step - loss: 161.3498 - acc: 0.0000e+00 - val_loss: 125.5102 - val_acc: 0.0000e+00\n",
      "Epoch 89/100\n",
      "5/5 [==============================] - 0s 16ms/step - loss: 165.0233 - acc: 0.0000e+00 - val_loss: 125.1091 - val_acc: 0.0000e+00\n",
      "Epoch 90/100\n",
      "5/5 [==============================] - 0s 17ms/step - loss: 160.0693 - acc: 0.0000e+00 - val_loss: 124.6078 - val_acc: 0.0000e+00\n",
      "Epoch 91/100\n",
      "5/5 [==============================] - 0s 16ms/step - loss: 161.0751 - acc: 0.0000e+00 - val_loss: 124.0300 - val_acc: 0.0000e+00\n",
      "Epoch 92/100\n",
      "5/5 [==============================] - 0s 18ms/step - loss: 158.7562 - acc: 0.0000e+00 - val_loss: 123.5163 - val_acc: 0.0000e+00\n",
      "Epoch 93/100\n",
      "5/5 [==============================] - 0s 16ms/step - loss: 150.9854 - acc: 0.0000e+00 - val_loss: 123.0048 - val_acc: 0.0000e+00\n",
      "Epoch 94/100\n",
      "5/5 [==============================] - 0s 14ms/step - loss: 156.3555 - acc: 0.0000e+00 - val_loss: 122.4582 - val_acc: 0.0000e+00\n",
      "Epoch 95/100\n",
      "5/5 [==============================] - 0s 17ms/step - loss: 145.0516 - acc: 0.0000e+00 - val_loss: 121.9411 - val_acc: 0.0000e+00\n",
      "Epoch 96/100\n",
      "5/5 [==============================] - 0s 15ms/step - loss: 150.9150 - acc: 0.0000e+00 - val_loss: 121.5637 - val_acc: 0.0000e+00\n",
      "Epoch 97/100\n",
      "5/5 [==============================] - 0s 17ms/step - loss: 157.8428 - acc: 0.0000e+00 - val_loss: 121.1145 - val_acc: 0.0000e+00\n",
      "Epoch 98/100\n",
      "5/5 [==============================] - 0s 17ms/step - loss: 147.3142 - acc: 0.0000e+00 - val_loss: 120.7550 - val_acc: 0.0000e+00\n",
      "Epoch 99/100\n",
      "5/5 [==============================] - 0s 17ms/step - loss: 156.2693 - acc: 0.0000e+00 - val_loss: 120.4061 - val_acc: 0.0000e+00\n",
      "Epoch 100/100\n",
      "5/5 [==============================] - 0s 15ms/step - loss: 161.4323 - acc: 0.0000e+00 - val_loss: 120.0760 - val_acc: 0.0000e+00\n"
     ]
    },
    {
     "data": {
      "text/plain": [
       "<tensorflow.python.keras.callbacks.History at 0x15513cf1550>"
      ]
     },
     "execution_count": 10,
     "metadata": {},
     "output_type": "execute_result"
    }
   ],
   "source": [
    "model.fit(part_x_train,part_y_train,epochs=100,validation_data=(x_val,y_val),batch_size=128)"
   ]
  },
  {
   "cell_type": "code",
   "execution_count": 11,
   "metadata": {},
   "outputs": [
    {
     "name": "stdout",
     "output_type": "stream",
     "text": [
      "10/10 [==============================] - 0s 3ms/step - loss: 154.4790 - acc: 0.0000e+00\n"
     ]
    },
    {
     "data": {
      "text/plain": [
       "[154.47901916503906, 0.0]"
      ]
     },
     "execution_count": 11,
     "metadata": {},
     "output_type": "execute_result"
    }
   ],
   "source": [
    "model.evaluate(x_test,y_test)"
   ]
  },
  {
   "cell_type": "code",
   "execution_count": 12,
   "metadata": {},
   "outputs": [
    {
     "name": "stdout",
     "output_type": "stream",
     "text": [
      "12.333688138339353\n"
     ]
    }
   ],
   "source": [
    "pred_train= model.predict(part_x_train)\n",
    "print(np.sqrt(mean_squared_error(part_y_train,pred_train)))"
   ]
  },
  {
   "cell_type": "code",
   "execution_count": 13,
   "metadata": {},
   "outputs": [
    {
     "data": {
      "text/plain": [
       "10788.51"
      ]
     },
     "execution_count": 13,
     "metadata": {},
     "output_type": "execute_result"
    }
   ],
   "source": [
    "model.predict(x_test).sum()"
   ]
  },
  {
   "cell_type": "code",
   "execution_count": null,
   "metadata": {},
   "outputs": [],
   "source": []
  }
 ],
 "metadata": {
  "kernelspec": {
   "display_name": "Python 3",
   "language": "python",
   "name": "python3"
  },
  "language_info": {
   "codemirror_mode": {
    "name": "ipython",
    "version": 3
   },
   "file_extension": ".py",
   "mimetype": "text/x-python",
   "name": "python",
   "nbconvert_exporter": "python",
   "pygments_lexer": "ipython3",
   "version": "3.8.5"
  }
 },
 "nbformat": 4,
 "nbformat_minor": 2
}
